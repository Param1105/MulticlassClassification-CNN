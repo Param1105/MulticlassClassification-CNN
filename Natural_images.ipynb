{
 "cells": [
  {
   "cell_type": "code",
   "execution_count": 1,
   "metadata": {},
   "outputs": [],
   "source": [
    "import os\n",
    "import numpy as np\n",
    "import matplotlib.pyplot as plt\n",
    "import tensorflow as tf\n",
    "from tensorflow.keras import layers\n",
    "from tensorflow.keras import Model\n",
    "from tensorflow.keras.preprocessing import image\n",
    "from tensorflow.keras.preprocessing.image import ImageDataGenerator                 # Import ImageDatagenerator from tensorflow"
   ]
  },
  {
   "cell_type": "code",
   "execution_count": 2,
   "metadata": {},
   "outputs": [
    {
     "name": "stdout",
     "output_type": "stream",
     "text": [
      "['airplane', 'car', 'cat', 'dog', 'flower', 'fruit', 'motorbike', 'person']\n"
     ]
    }
   ],
   "source": [
    "# Reading data from the folder\n",
    "path = \"Images/\"\n",
    "print(list(os.listdir(path)))                                                       # Classes "
   ]
  },
  {
   "cell_type": "code",
   "execution_count": 3,
   "metadata": {
    "scrolled": true
   },
   "outputs": [
    {
     "name": "stdout",
     "output_type": "stream",
     "text": [
      "691\n",
      "922\n",
      "836\n",
      "672\n",
      "797\n",
      "952\n",
      "742\n",
      "937\n"
     ]
    }
   ],
   "source": [
    "for cls in os.listdir(path):\n",
    "    print(len(os.listdir(os.path.join(path,cls))))                  # Number of images in the training folder"
   ]
  },
  {
   "cell_type": "code",
   "execution_count": 5,
   "metadata": {},
   "outputs": [
    {
     "name": "stdout",
     "output_type": "stream",
     "text": [
      "Found 6549 images belonging to 8 classes.\n",
      "Found 350 images belonging to 8 classes.\n"
     ]
    }
   ],
   "source": [
    "train_datagen = ImageDataGenerator(rescale = 1.0/255.0,                              # Data augmentation on training images\n",
    "                                  rotation_range=40,\n",
    "                                  width_shift_range=0.2,\n",
    "                                  height_shift_range=0.2,\n",
    "                                  shear_range=0.2,\n",
    "                                  zoom_range=0.2,\n",
    "                                  horizontal_flip=True)\n",
    "\n",
    "train_generator = train_datagen.flow_from_directory(path,batch_size = 20,\n",
    "                                                   target_size = (150,150))\n",
    "\n",
    "validation_datagen = ImageDataGenerator(rescale = 1.0/255.0,                         # Data augmentation on validation images\n",
    "                                  rotation_range=40,\n",
    "                                  width_shift_range=0.2,\n",
    "                                  height_shift_range=0.2,\n",
    "                                  shear_range=0.2,\n",
    "                                  zoom_range=0.2,\n",
    "                                  horizontal_flip=True)\n",
    "\n",
    "val_path = \"Val_images\"\n",
    "validation_generator = validation_datagen.flow_from_directory(val_path, batch_size = 20, \n",
    "                                                              target_size = (150,150))"
   ]
  },
  {
   "cell_type": "code",
   "execution_count": 6,
   "metadata": {},
   "outputs": [],
   "source": [
    "# Model architecture\n",
    "\n",
    "#Input layer\n",
    "input_layer = layers.Input(shape=(150,150,3),name='Input_Layer')\n",
    "\n",
    "#Conv Layer\n",
    "Conv1 = layers.Conv2D(filters=32,kernel_size=(3,3),strides=(1,1),padding='valid',data_format='channels_last',\n",
    "              activation='relu',kernel_initializer=tf.keras.initializers.he_normal(seed=0),name='Conv1')(input_layer)\n",
    "#MaxPool Layer\n",
    "Pool1 = layers.MaxPool2D(pool_size=(2,2),strides=(2,2),padding='valid',data_format='channels_last',name='Pool1')(Conv1)\n",
    "\n",
    "\n",
    "Conv2 = layers.Conv2D(filters=64,kernel_size=(3,3),strides=(1,1),padding='valid',data_format='channels_last',\n",
    "              activation='relu',kernel_initializer=tf.keras.initializers.he_normal(seed=3),name='Conv2')(Pool1)\n",
    "Conv3 = layers.Conv2D(filters=64,kernel_size=(3,3),strides=(2,2),padding='valid',data_format='channels_last',\n",
    "              activation='relu',kernel_initializer=tf.keras.initializers.he_normal(seed=5),name='Conv3')(Conv2)\n",
    "#MaxPool Layer\n",
    "Pool2 = layers.MaxPool2D(pool_size=(2,2),strides=(1,1),padding='valid',data_format='channels_last',name='Pool2')(Conv3)\n",
    "\n",
    "\n",
    "Conv4 = layers.Conv2D(filters=128,kernel_size=(3,3),strides=(2,2),padding='valid',data_format='channels_last',\n",
    "              activation='relu',kernel_initializer=tf.keras.initializers.he_normal(seed=9),name='Conv4')(Pool2)\n",
    "#MaxPool Layer\n",
    "Pool3 = layers.MaxPool2D(pool_size=(2,2),strides=(2,2),padding='valid',data_format='channels_last',name='Pool3')(Conv4)\n",
    "\n",
    "\n",
    "\n",
    "#Flatten\n",
    "flatten = layers.Flatten(data_format='channels_last',name='Flatten')(Pool3)\n",
    "\n",
    "#FC layer\n",
    "FC1 = layers.Dense(units=256,activation='relu',kernel_initializer=tf.keras.initializers.glorot_normal(seed=32),name='FC1')(flatten)\n",
    "\n",
    "#FC layer\n",
    "FC2 = layers.Dense(units=128,activation='relu',kernel_initializer=tf.keras.initializers.glorot_normal(seed=33),name='FC2')(FC1)\n",
    "\n",
    "#output layer\n",
    "Out = layers.Dense(units=8,activation='softmax',kernel_initializer=tf.keras.initializers.glorot_normal(seed=3),name='Output')(FC2)\n",
    "\n",
    "#Creating a model\n",
    "model = Model(inputs=input_layer,outputs=Out)\n",
    "\n"
   ]
  },
  {
   "cell_type": "code",
   "execution_count": 8,
   "metadata": {},
   "outputs": [],
   "source": [
    "# Compiling the mmodel before training\n",
    "\n",
    "model.compile(optimizer=tf.keras.optimizers.Adam(lr=0.001),loss='categorical_crossentropy',metrics=['accuracy'])  "
   ]
  },
  {
   "cell_type": "code",
   "execution_count": 9,
   "metadata": {
    "scrolled": true
   },
   "outputs": [
    {
     "name": "stdout",
     "output_type": "stream",
     "text": [
      "WARNING:tensorflow:From <ipython-input-9-fad888f7489b>:1: Model.fit_generator (from tensorflow.python.keras.engine.training) is deprecated and will be removed in a future version.\n",
      "Instructions for updating:\n",
      "Please use Model.fit, which supports generators.\n",
      "WARNING:tensorflow:sample_weight modes were coerced from\n",
      "  ...\n",
      "    to  \n",
      "  ['...']\n",
      "WARNING:tensorflow:sample_weight modes were coerced from\n",
      "  ...\n",
      "    to  \n",
      "  ['...']\n",
      "Train for 328 steps, validate for 18 steps\n",
      "Epoch 1/30\n",
      "328/328 [==============================] - 39s 117ms/step - loss: 1.1031 - accuracy: 0.5931 - val_loss: 0.6895 - val_accuracy: 0.7200\n",
      "Epoch 2/30\n",
      "328/328 [==============================] - 37s 114ms/step - loss: 0.6577 - accuracy: 0.7574 - val_loss: 0.5368 - val_accuracy: 0.8114\n",
      "Epoch 3/30\n",
      "328/328 [==============================] - 38s 115ms/step - loss: 0.5463 - accuracy: 0.7965 - val_loss: 0.4295 - val_accuracy: 0.8514\n",
      "Epoch 4/30\n",
      "328/328 [==============================] - 38s 115ms/step - loss: 0.4814 - accuracy: 0.8270 - val_loss: 0.4504 - val_accuracy: 0.8229\n",
      "Epoch 5/30\n",
      "328/328 [==============================] - 38s 116ms/step - loss: 0.4371 - accuracy: 0.8381 - val_loss: 0.3899 - val_accuracy: 0.8571\n",
      "Epoch 6/30\n",
      "328/328 [==============================] - 38s 116ms/step - loss: 0.3927 - accuracy: 0.8559 - val_loss: 0.3898 - val_accuracy: 0.8543\n",
      "Epoch 7/30\n",
      "328/328 [==============================] - 38s 116ms/step - loss: 0.3942 - accuracy: 0.8539 - val_loss: 0.3311 - val_accuracy: 0.8657\n",
      "Epoch 8/30\n",
      "328/328 [==============================] - 38s 117ms/step - loss: 0.3543 - accuracy: 0.8699 - val_loss: 0.3148 - val_accuracy: 0.8914\n",
      "Epoch 9/30\n",
      "328/328 [==============================] - 39s 118ms/step - loss: 0.3451 - accuracy: 0.8711 - val_loss: 0.3048 - val_accuracy: 0.8829\n",
      "Epoch 10/30\n",
      "328/328 [==============================] - 39s 118ms/step - loss: 0.3298 - accuracy: 0.8806 - val_loss: 0.3724 - val_accuracy: 0.8686\n",
      "Epoch 11/30\n",
      "328/328 [==============================] - 39s 118ms/step - loss: 0.3144 - accuracy: 0.8807 - val_loss: 0.2934 - val_accuracy: 0.8943\n",
      "Epoch 12/30\n",
      "328/328 [==============================] - 40s 121ms/step - loss: 0.3133 - accuracy: 0.8856 - val_loss: 0.3193 - val_accuracy: 0.8886\n",
      "Epoch 13/30\n",
      "328/328 [==============================] - 39s 119ms/step - loss: 0.2657 - accuracy: 0.9035 - val_loss: 0.2979 - val_accuracy: 0.8886\n",
      "Epoch 14/30\n",
      "328/328 [==============================] - 39s 119ms/step - loss: 0.2835 - accuracy: 0.8956 - val_loss: 0.3111 - val_accuracy: 0.8943\n",
      "Epoch 15/30\n",
      "328/328 [==============================] - 39s 118ms/step - loss: 0.2532 - accuracy: 0.9064 - val_loss: 0.2846 - val_accuracy: 0.8857\n",
      "Epoch 16/30\n",
      "328/328 [==============================] - 39s 120ms/step - loss: 0.2673 - accuracy: 0.9007 - val_loss: 0.2519 - val_accuracy: 0.9000\n",
      "Epoch 17/30\n",
      "328/328 [==============================] - 39s 120ms/step - loss: 0.2607 - accuracy: 0.9041 - val_loss: 0.2803 - val_accuracy: 0.8943\n",
      "Epoch 18/30\n",
      "328/328 [==============================] - 39s 119ms/step - loss: 0.2453 - accuracy: 0.9113 - val_loss: 0.2084 - val_accuracy: 0.9143\n",
      "Epoch 19/30\n",
      "328/328 [==============================] - 39s 119ms/step - loss: 0.2383 - accuracy: 0.9099 - val_loss: 0.2213 - val_accuracy: 0.9114\n",
      "Epoch 20/30\n",
      "328/328 [==============================] - 39s 120ms/step - loss: 0.2234 - accuracy: 0.9174 - val_loss: 0.2493 - val_accuracy: 0.9143\n",
      "Epoch 21/30\n",
      "328/328 [==============================] - 39s 119ms/step - loss: 0.2231 - accuracy: 0.9153 - val_loss: 0.3151 - val_accuracy: 0.8971\n",
      "Epoch 22/30\n",
      "328/328 [==============================] - 39s 120ms/step - loss: 0.2395 - accuracy: 0.9090 - val_loss: 0.2184 - val_accuracy: 0.9229\n",
      "Epoch 23/30\n",
      "328/328 [==============================] - 39s 119ms/step - loss: 0.2201 - accuracy: 0.9166 - val_loss: 0.2276 - val_accuracy: 0.9086\n",
      "Epoch 24/30\n",
      "328/328 [==============================] - 39s 120ms/step - loss: 0.2129 - accuracy: 0.9180 - val_loss: 0.2985 - val_accuracy: 0.9143\n",
      "Epoch 25/30\n",
      "328/328 [==============================] - 39s 120ms/step - loss: 0.2223 - accuracy: 0.9182 - val_loss: 0.2532 - val_accuracy: 0.8943\n",
      "Epoch 26/30\n",
      "328/328 [==============================] - 40s 121ms/step - loss: 0.2263 - accuracy: 0.9182 - val_loss: 0.2883 - val_accuracy: 0.9057\n",
      "Epoch 27/30\n",
      "328/328 [==============================] - 39s 120ms/step - loss: 0.2075 - accuracy: 0.9203 - val_loss: 0.1984 - val_accuracy: 0.9286\n",
      "Epoch 28/30\n",
      "328/328 [==============================] - 39s 120ms/step - loss: 0.2136 - accuracy: 0.9243 - val_loss: 0.2247 - val_accuracy: 0.9086\n",
      "Epoch 29/30\n",
      "328/328 [==============================] - 39s 120ms/step - loss: 0.2143 - accuracy: 0.9262 - val_loss: 0.2382 - val_accuracy: 0.9229\n",
      "Epoch 30/30\n",
      "328/328 [==============================] - 39s 119ms/step - loss: 0.2188 - accuracy: 0.9201 - val_loss: 0.2297 - val_accuracy: 0.9171\n"
     ]
    }
   ],
   "source": [
    "history = model.fit_generator(train_generator,validation_data=validation_generator,epochs = 30, verbose = 1)"
   ]
  },
  {
   "cell_type": "code",
   "execution_count": 13,
   "metadata": {},
   "outputs": [
    {
     "data": {
      "image/png": "[encoded data removed]",
      "text/plain": [
       "<Figure size 432x288 with 1 Axes>"
      ]
     },
     "metadata": {
      "needs_background": "light"
     },
     "output_type": "display_data"
    },
    {
     "data": {
      "image/png": "[encoded data removed]",
      "text/plain": [
       "<Figure size 432x288 with 1 Axes>"
      ]
     },
     "metadata": {
      "needs_background": "light"
     },
     "output_type": "display_data"
    }
   ],
   "source": [
    "# Plotting the results of training\n",
    "\n",
    "acc = history.history['accuracy']\n",
    "val_accuracy = history.history['val_accuracy']\n",
    "loss = history.history['loss']\n",
    "val_loss = history.history['val_loss']\n",
    "epochs = range(len(acc))\n",
    "\n",
    "epochs = range(len(acc))\n",
    "\n",
    "plt.plot(epochs, acc, 'r', label='Training accuracy')\n",
    "plt.plot(epochs, val_accuracy, 'b', label='Validation accuracy')\n",
    "plt.title('Training and validation accuracy')\n",
    "plt.legend()\n",
    "plt.figure()\n",
    "\n",
    "plt.plot(epochs, loss, 'r', label='Training Loss')\n",
    "plt.plot(epochs, val_loss, 'b', label='Validation Loss')\n",
    "plt.title('Training and validation loss')\n",
    "plt.legend()\n",
    "\n",
    "plt.show()"
   ]
  },
  {
   "cell_type": "code",
   "execution_count": null,
   "metadata": {},
   "outputs": [],
   "source": [
    "# Test the model \n",
    "# Using single image\n",
    "\n",
    "samp_path = \"Test/cat_0041.jpg\"\n",
    "img = image.load_img(samp_path,target_size = (150,150))\n",
    "x = image.img_to_array(img)\n",
    "x = np.expand_dims(x,axis = 0)\n",
    "\n",
    "\n",
    "images = np.vstack([x])\n",
    "classes = model.predict(images)\n",
    "print(classes)"
   ]
  },
  {
   "cell_type": "code",
   "execution_count": 22,
   "metadata": {},
   "outputs": [
    {
     "name": "stdout",
     "output_type": "stream",
     "text": [
      "Found 9 images belonging to 1 classes.\n"
     ]
    }
   ],
   "source": [
    "# Keep all the images in a folder \n",
    "# For testing we are only rescaling the images \n",
    "\n",
    "test_datagen = ImageDataGenerator(rescale=1.0/255.)\n",
    "test_gen = test_datagen.flow_from_directory(\"New_test\",\n",
    "                                           target_size = (150,150))\n",
    "prediction = model.predict(test_gen)"
   ]
  },
  {
   "cell_type": "code",
   "execution_count": 24,
   "metadata": {},
   "outputs": [],
   "source": [
    "predicted_class_indices = [np.argmax(pred,axis=0) for pred in prediction]"
   ]
  },
  {
   "cell_type": "code",
   "execution_count": 26,
   "metadata": {},
   "outputs": [
    {
     "data": {
      "text/plain": [
       "{'airplane': 0,\n",
       " 'car': 1,\n",
       " 'cat': 2,\n",
       " 'dog': 3,\n",
       " 'flower': 4,\n",
       " 'fruit': 5,\n",
       " 'motorbike': 6,\n",
       " 'person': 7}"
      ]
     },
     "execution_count": 26,
     "metadata": {},
     "output_type": "execute_result"
    }
   ],
   "source": [
    "labels = (train_generator.class_indices)                           # Classes used during training\n",
    "labels"
   ]
  },
  {
   "cell_type": "code",
   "execution_count": 27,
   "metadata": {},
   "outputs": [],
   "source": [
    "labels = dict((v,k) for k,v in labels.items())                             # Converting classes into key value pairs\n",
    "predict = [labels[k] for k in predicted_class_indices]                     # Get the predictions using the labels dictionary"
   ]
  }
 ],
 "metadata": {
  "kernelspec": {
   "display_name": "Python 3",
   "language": "python",
   "name": "python3"
  },
  "language_info": {
   "codemirror_mode": {
    "name": "ipython",
    "version": 3
   },
   "file_extension": ".py",
   "mimetype": "text/x-python",
   "name": "python",
   "nbconvert_exporter": "python",
   "pygments_lexer": "ipython3",
   "version": "3.6.10"
  }
 },
 "nbformat": 4,
 "nbformat_minor": 4
}
